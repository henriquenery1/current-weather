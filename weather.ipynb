{
  "nbformat": 4,
  "nbformat_minor": 0,
  "metadata": {
    "colab": {
      "name": "weather.ipynb",
      "provenance": []
    },
    "kernelspec": {
      "name": "python3",
      "display_name": "Python 3"
    },
    "language_info": {
      "name": "python"
    }
  },
  "cells": [
    {
      "cell_type": "code",
      "execution_count": 17,
      "metadata": {
        "id": "R8254d1A36Jg"
      },
      "outputs": [],
      "source": [
        "import requests"
      ]
    },
    {
      "cell_type": "code",
      "source": [
        "API_KEY = \"Your api key\"\n",
        "city = \"sao paulo\""
      ],
      "metadata": {
        "id": "j4ijuwCQ4t8u"
      },
      "execution_count": 18,
      "outputs": []
    },
    {
      "cell_type": "code",
      "source": [
        "link = f\"http://api.openweathermap.org/data/2.5/weather?q={city}&appid={API_KEY}\""
      ],
      "metadata": {
        "id": "kxxuxIzm5dCS"
      },
      "execution_count": 12,
      "outputs": []
    },
    {
      "cell_type": "code",
      "source": [
        "req = requests.get(link)\n",
        "\n",
        "req_dic = req.json()\n",
        "description = req_dic['weather'][0]['description']\n",
        "temp = req_dic['main']['temp']\n",
        "temp_celsius = temp - 273.15\n",
        "\n",
        "print(f\"descrição: {description}, temperatura em Kelvin: {temp}, temperatura em Celsius: {temp_celsius}\")"
      ],
      "metadata": {
        "colab": {
          "base_uri": "https://localhost:8080/"
        },
        "id": "srZADyNs5wP_",
        "outputId": "dc9fdd14-00c1-450b-d9be-0f130b996534"
      },
      "execution_count": 24,
      "outputs": [
        {
          "output_type": "stream",
          "name": "stdout",
          "text": [
            "descrição: few clouds, temperatura em Kelvin: 297.73, temperatura em Celsius: 24.58000000000004\n"
          ]
        }
      ]
    }
  ]
}